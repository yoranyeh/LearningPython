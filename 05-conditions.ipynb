{
 "cells": [
  {
   "cell_type": "markdown",
   "metadata": {},
   "source": [
    "# Conditions"
   ]
  },
  {
   "cell_type": "code",
   "execution_count": 1,
   "metadata": {},
   "outputs": [
    {
     "name": "stdout",
     "output_type": "stream",
     "text": [
      "Not greater\n",
      "finished\n"
     ]
    }
   ],
   "source": [
    "num = 37\n",
    "if num > 100:\n",
    "    print('Greater')\n",
    "else:\n",
    "    print('Not greater')\n",
    "\n",
    "print('finished')"
   ]
  },
  {
   "cell_type": "code",
   "execution_count": 3,
   "metadata": {},
   "outputs": [
    {
     "name": "stdout",
     "output_type": "stream",
     "text": [
      "is 200\n"
     ]
    }
   ],
   "source": [
    "new_num = 200\n",
    "if new_num < 100:\n",
    "    print('Doing something')\n",
    "\n",
    "elif new_num > 1000:\n",
    "    print('greater than 1000')\n",
    "\n",
    "elif new_num == 200:\n",
    "        print('is 200')\n",
    "else:\n",
    "    print('in between')"
   ]
  },
  {
   "cell_type": "code",
   "execution_count": 4,
   "metadata": {},
   "outputs": [],
   "source": [
    "if (1 > 0) and (-1 < 0) and (10 > 20):\n",
    "    print('All true')"
   ]
  },
  {
   "cell_type": "markdown",
   "metadata": {},
   "source": [
    "# Checking our data"
   ]
  },
  {
   "cell_type": "code",
   "execution_count": 5,
   "metadata": {},
   "outputs": [],
   "source": [
    "import numpy as np"
   ]
  },
  {
   "cell_type": "code",
   "execution_count": 11,
   "metadata": {},
   "outputs": [
    {
     "name": "stdout",
     "output_type": "stream",
     "text": [
      "Mean < 10\n"
     ]
    }
   ],
   "source": [
    "data = np.loadtxt('data/inflammation-01.csv', delimiter=',')\n",
    "mean = np.mean(data, axis=0)\n",
    "\n",
    "if mean[0] > 10:\n",
    "    print(\"Mean > 10\")\n",
    "else:\n",
    "    print(\"Mean < 10\")"
   ]
  },
  {
   "cell_type": "code",
   "execution_count": 13,
   "metadata": {},
   "outputs": [
    {
     "name": "stdout",
     "output_type": "stream",
     "text": [
      "data/inflammation-01.csv\n",
      "data/inflammation-02.csv\n",
      "data/inflammation-03.csv\n",
      "Suspicuous data - check\n",
      "data/inflammation-04.csv\n",
      "data/inflammation-05.csv\n",
      "data/inflammation-06.csv\n",
      "data/inflammation-07.csv\n",
      "data/inflammation-08.csv\n",
      "Suspicuous data - check\n",
      "data/inflammation-09.csv\n",
      "data/inflammation-10.csv\n",
      "data/inflammation-11.csv\n",
      "Suspicuous data - check\n",
      "data/inflammation-12.csv\n"
     ]
    }
   ],
   "source": [
    "import glob\n",
    "\n",
    "filenames = sorted(glob.glob('data/inflammation*.csv'))\n",
    "\n",
    "for filename in filenames:\n",
    "    print(filename)\n",
    "    data = np.loadtxt(filename, delimiter = ',')\n",
    "    \n",
    "    min_value = np.min(data, axis=0)\n",
    "    \n",
    "    sum_of_min = np.sum(min_value)\n",
    "    \n",
    "    if sum_of_min == 0:\n",
    "        print('Suspicuous data - check')"
   ]
  },
  {
   "cell_type": "code",
   "execution_count": 22,
   "metadata": {},
   "outputs": [
    {
     "name": "stdout",
     "output_type": "stream",
     "text": [
      "I bet you it's going to rain today\n"
     ]
    }
   ],
   "source": [
    "temperature = -10\n",
    "if temperature >= 20:\n",
    "    print(\"Yay, summer!\")\n",
    "elif 10 <= temperature < 20:\n",
    "    print(\"Summer is going away\")\n",
    "elif temperature < 10:\n",
    "    print(\"I bet you it's going to rain today\")"
   ]
  },
  {
   "cell_type": "code",
   "execution_count": null,
   "metadata": {},
   "outputs": [],
   "source": []
  }
 ],
 "metadata": {
  "kernelspec": {
   "display_name": "Python 3",
   "language": "python",
   "name": "python3"
  },
  "language_info": {
   "codemirror_mode": {
    "name": "ipython",
    "version": 3
   },
   "file_extension": ".py",
   "mimetype": "text/x-python",
   "name": "python",
   "nbconvert_exporter": "python",
   "pygments_lexer": "ipython3",
   "version": "3.7.4"
  }
 },
 "nbformat": 4,
 "nbformat_minor": 4
}
